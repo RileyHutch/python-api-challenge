


# Dependencies and Setup
import hvplot.pandas
import pandas as pd
import requests

# Import API key
from api_keys import geoapify_key


# Load the CSV file created in Part 1 into a Pandas DataFrame
city_data_df = pd.read_csv("output_data/cities.csv")

# Display sample data
city_data_df.head()





## geoviews_demo_solution used

map_humidity = city_data_df.hvplot.points(
    "Lng",
    "Lat",
    geo=True,                 
    tiles="OSM",
    color= "City",
    cmap="Category20",
    size="Humidity",
    hover_cols=['City', 'Country', 'Hotel Name'],                       
    alpha=0.8,
    width=1000,
    height=500)       

map_humidity                              





# Narrow down cities that fit criteria and drop any results with null values
filtered_cities_df = city_data_df[
    (city_data_df['Max Temp'] >= 40) &
    (city_data_df['Max Temp'] <= 80) &
    (city_data_df['Humidity'] < 60) &
    (city_data_df['Cloudiness'] < 30) &
    (city_data_df['Wind Speed'] < 5)]     

# Drop any rows with null values
filtered_cities_df = filtered_cities_df.dropna()

# Display sample data
filtered_cities_df





# Use the Pandas copy function to create DataFrame called hotel_df to store the city, country, coordinates, and humidity                            ## restaurants_solution used
hotel_df = city_data_df[['City', 'Country', 'Lat', 'Lng', 'Humidity']].copy()

# Add an empty column, "Hotel Name," to the DataFrame so you can store the hotel found using the Geoapify API
hotel_df['Hotel Name'] = ""

# Display sample data
hotel_df





# Set parameters to search for a hotel                                                                                             ## ## restaurants_solution used  - worked with partner in group
radius = 10000
params = {"apiKey": geoapify_key}

# Print a message to follow up the hotel search
print("Starting hotel search")

# Iterate through the hotel_df DataFrame
for index, row in hotel_df.iterrows():


    params = {
        "categories": "accommodation.hotel",
        "filter": f"circle:{row['Lng']},{row['Lat']},{radius}",
        "bias": f"proximity:{row['Lng']},{row['Lat']}",
        "limit": 1,
        "apiKey": geoapify_key
    }

    # Make and API request using the params dictionary
    response = requests.get(base_url, params=params)
    name_address = response.json()

    # Grab the first hotel from the results and store the name in the hotel_df DataFrame
    try:
        hotel_df.loc[index, "Hotel Name"] = name_address["features"][0]["properties"]["name"]
    except (KeyError, IndexError):
        # If no hotel is found, set the hotel name as "No hotel found".
        hotel_df.loc[index, "Hotel Name"] = "No hotel found"

    # Log the search results
    print(f"{hotel_df.loc[index, 'City']} - nearest hotel: {hotel_df.loc[index, 'Hotel Name']}")

# Display sample data
hotel_df





%%capture --no-display

# Configure the map plot
map_hotel = hotel_df.hvplot.points(                                                            
    "Lng",
    "Lat",
    geo=True,                 
    tiles="OSM",
    color= "City",
    cmap="Category20",
    size="Humidity",
    hover_cols=['City', 'Country', 'Hotel Name'],                       
    alpha=0.8,
    width=1000,
    height=500)    

map_hotel



