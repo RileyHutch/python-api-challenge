


# Dependencies and Setup
import matplotlib.pyplot as plt
import pandas as pd
import numpy as np
import requests
import time
from scipy.stats import linregress
from scipy import stats

import os

# Impor the OpenWeatherMap API key
from api_keys import weather_api_key

# Import citipy to determine the cities based on latitude and longitude
from citipy import citipy





# Empty list for holding the latitude and longitude combinations
lat_lngs = []

# Empty list for holding the cities names
cities = []

# Range of latitudes and longitudes
lat_range = (-90, 90)
lng_range = (-180, 180)

# Create a set of random lat and lng combinations
lats = np.random.uniform(lat_range[0], lat_range[1], size=1500)
lngs = np.random.uniform(lng_range[0], lng_range[1], size=1500)
lat_lngs = zip(lats, lngs)

# Identify nearest city for each lat, lng combination
for lat_lng in lat_lngs:
    city = citipy.nearest_city(lat_lng[0], lat_lng[1]).city_name

    # If the city is unique, then add it to a our cities list
    if city not in cities:
        cities.append(city)

# Print the city count to confirm sufficient count
print(f"Number of cities in the list: {len(cities)}")








# Set the API base URL                                                                                                             ** Openweather website info **
url = "https://api.openweathermap.org/data/2.5/weather?q={city_data}&units={units}&appid={weather_api_key}"
units = "imperial"

# Define an empty list to fetch the weather data for each city
city_data = []

# Print to logger
print("Beginning Data Retrieval     ")
print("-----------------------------")

# Create counters
record_count = 1
set_count = 1

# Loop through all the cities in our list to fetch weather data
for i, city in enumerate(cities):

    # Group cities in sets of 50 for logging purposes
    if (i % 50 == 0 and i >= 50):
        set_count += 1
        record_count = 0

    # Create endpoint URL with each city                                                                                   ** had chatgpt explain the open_weather_dataframe_solution version of this and it gave a simpler version
    city_url = url.format(city_data=city, units=units, weather_api_key=weather_api_key)

    # Log the url, record, and set numbers
    print("Processing Record %s of Set %s | %s" % (record_count, set_count, city))

    # Add 1 to the record count
    record_count += 1

    # Run an API request for each of the cities
    try:
        # Parse the JSON and retrieve data
        city_weather = requests.get(city_url).json()                                                                                      #   ** open_weather_dataframe_solution version

        # Parse out latitude, longitude, max temp, humidity, cloudiness, wind speed, country, and date                                        ** JSON format API response fields from OpenWeather and  open_weather_dataframe_solution
        city_lat = city_weather['coord']['lat']
        city_lng = city_weather['coord']['lon']
        city_max_temp = city_weather['main']['temp_max']
        city_humidity = city_weather['main']['humidity']
        city_clouds = city_weather['clouds']['all']
        city_wind = city_weather['wind']['speed']
        city_country = city_weather['sys']['country']
        city_date = city_weather['dt']

        # Append the City information into city_data list
        city_data.append({"City": city,
                          "Lat": city_lat,
                          "Lng": city_lng,
                          "Max Temp": city_max_temp,
                          "Humidity": city_humidity,
                          "Cloudiness": city_clouds,
                          "Wind Speed": city_wind,
                          "Country": city_country,
                          "Date": city_date})

    # If an error is experienced, skip the city
    except:
        print("City not found. Skipping...")
        pass

    # pause to avoid rate limiting
    time.sleep(1)

# Indicate that Data Loading is complete
print("-----------------------------")
print("Data Retrieval Complete      ")
print("-----------------------------")


# Convert the cities weather data into a Pandas DataFrame                                                                             ** open_weather_dataframe_solution **
city_data_df = pd.DataFrame(city_data)

# Show Record Count
city_data_df.count()


# Display sample data
city_data_df.head()


print("Current Working Directory:", os.getcwd())                                                                                          ## Accidently put my output_data file outside of WeatherPy and created many issues


# Export the City_Data into a csv
city_data_df.to_csv("output_data/cities.csv", index_label="City_ID")


# Read saved data
city_data_df = pd.read_csv("output_data/cities.csv", index_col="City_ID")

# Display sample data
city_data_df.head()





# Build scatter plot for latitude vs. temperature                                                                                                   ## open_weather_dataframe_solution
plt.figure(figsize=(7, 4))
plt.scatter(city_data_df["Lat"], city_data_df["Max Temp"], marker='o', alpha=0.3)

# Incorporate the other graph properties
plt.title("City Latitude vs. Maximum Temperature (2024-11-01)", fontsize=12)
plt.xlabel("Latitude", fontsize=12)
plt.ylabel("Max Temperature (F)", fontsize=12)
plt.grid(True)

# Save the figure
plt.savefig("output_data/Fig1.png")

# Show plot
plt.show()





# Build the scatter plots for latitude vs. humidity
plt.figure(figsize=(7, 4))
plt.scatter(city_data_df["Lat"], city_data_df["Humidity"], marker='o', alpha=0.3)

# Incorporate the other graph properties
plt.title("City Latitude vs. Humidity (2024-11-01)", fontsize=12)
plt.xlabel("Latitude", fontsize=12)
plt.ylabel("Humidity (%)", fontsize=12)
plt.grid(True)

# Save the figure
plt.savefig("output_data/Fig2.png")

# Show plot
plt.show()





# Build the scatter plots for latitude vs. cloudiness
plt.figure(figsize=(7, 4))
plt.scatter(city_data_df["Lat"], city_data_df["Cloudiness"], marker='o', alpha=0.3)

# Incorporate the other graph properties
plt.title("City Latitude vs. Cloudiness (2024-11-01)", fontsize=12)
plt.xlabel("Latitude", fontsize=12)
plt.ylabel("Cloudiness (%)", fontsize=12)
plt.grid(True)

# Save the figure
plt.savefig("output_data/Fig3.png")

# Show plot
plt.show()





# Build the scatter plots for latitude vs. wind speed
plt.figure(figsize=(7, 4))
plt.scatter(city_data_df["Lat"], city_data_df["Wind Speed"], marker='o', alpha=0.3)

# Incorporate the other graph properties
plt.title("City Latitude vs. Wind Speed (2024-11-01)", fontsize=12)
plt.xlabel("Latitude", fontsize=12)
plt.ylabel("Wind Speed (m/s)", fontsize=12)
plt.grid(True)

# Save the figure
plt.savefig("output_data/Fig4.png")

# Show plot
plt.show()





# Define a function to create Linear Regression plots                                            #  weather_stats_solution but I don't like it or quite understand it so I used GPT to create a different way
                                                                                                 # solution: fit_line = slope * x_data + intercept and it kept erroring since it was seperate so GPT came up with this as a solution
x_values = city_data_df['lat']
y_values = weather_data['temp']
(slope, intercept, rvalue, pvalue, stderr) = stats.linregress(x_values, y_values)

# Get regression values
regress_values = x_values * slope + intercept
print(regress_values)


# Create a DataFrame with the Northern Hemisphere data (Latitude >= 0)
northern_hemi_df = city_data_df[city_data_df["Lat"] >= 0]

# Display sample data
northern_hemi_df.head()


# Create a DataFrame with the Southern Hemisphere data (Latitude < 0)
southern_hemi_df = city_data_df[city_data_df["Lat"] < 0]

# Display sample data
southern_hemi_df.head()





# Linear regression on Northern Hemisphere
x_values = northern_hemi_df['Lat']
y_values = northern_hemi_df["Max Temp"]
(slope, intercept, rvalue, pvalue, stderr) = stats.linregress(x_values, y_values)

# Get regression values
regress_values = x_values * slope + intercept
line_eq = "y = " + str(round(slope,2)) + "x +" + str(round(intercept,2))
plt.figure(figsize=(10, 6))
plt.scatter(x_values,y_values)
plt.plot(x_values,regress_values,"r-")

# Label plot and annotate the line equation
plt.xlabel('Latitude')
plt.ylabel('Temperature')
plt.annotate(line_eq,(10,260),fontsize=15,color="red")
plt.title(f"Latitude vs Max Temperature")

# Print r^2 value
print(f"The r^2-value is: {rvalue**2}")

# Show plot
plt.show()


# Linear regression on Southern Hemisphere
x_values = southern_hemi_df['Lat']
y_values = southern_hemi_df["Max Temp"]
(slope, intercept, rvalue, pvalue, stderr) = stats.linregress(x_values, y_values)

# Get regression values
regress_values = x_values * slope + intercept
line_eq = "y = " + str(round(slope,2)) + "x +" + str(round(intercept,2))
plt.figure(figsize=(10, 6))
plt.scatter(x_values,y_values)
plt.plot(x_values,regress_values,"r-")

# Label plot and annotate the line equation
plt.xlabel('Latitude')
plt.ylabel('Temperature')
plt.annotate(line_eq,(-55,310),fontsize=15,color="red")
plt.title(f"Latitude vs Max Temperature")

# Print r^2 value
print(f"The r^2-value is: {rvalue**2}")

# Show plot
plt.show()








# Northern Hemisphere
# YOUR CODE HERE


# Southern Hemisphere
# YOUR CODE HERE








# Northern Hemisphere
# YOUR CODE HERE


# Southern Hemisphere
# YOUR CODE HERE








# Northern Hemisphere
# YOUR CODE HERE


# Southern Hemisphere
# YOUR CODE HERE






